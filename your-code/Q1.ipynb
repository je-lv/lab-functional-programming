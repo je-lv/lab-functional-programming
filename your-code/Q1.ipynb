{
 "cells": [
  {
   "cell_type": "markdown",
   "metadata": {},
   "source": [
    "In the cell below, create a Python function that wraps your previous solution for the Bag of Words lab.\n",
    "\n",
    "Requirements:\n",
    "\n",
    "1. Your function should accept the following parameters:\n",
    "    * `docs` [REQUIRED] - array of document paths.\n",
    "    * `stop_words` [OPTIONAL] - array of stop words. The default value is an empty array.\n",
    "\n",
    "1. Your function should return a Python object that contains the following:\n",
    "    * `bag_of_words` - array of strings of normalized unique words in the corpus.\n",
    "    * `term_freq` - array of the term-frequency vectors."
   ]
  },
  {
   "cell_type": "code",
   "execution_count": 54,
   "metadata": {},
   "outputs": [],
   "source": [
    "# Import required libraries\n",
    "\n",
    "# Define function\n",
    "def get_bow_from_docs(docs, stop_words=[]):\n",
    "    \n",
    "    # In the function, first define the variables you will use such as `corpus`, `bag_of_words`, and `term_freq`.\n",
    "    \n",
    "    \n",
    "    \n",
    "    \"\"\"\n",
    "    Loop `docs` and read the content of each doc into a string in `corpus`.\n",
    "    Remember to convert the doc content to lowercases and remove punctuation.\n",
    "    \"\"\"\n",
    "\n",
    "    \n",
    "    \n",
    "    \"\"\"\n",
    "    Loop `corpus`. Append the terms in each doc into the `bag_of_words` array. The terms in `bag_of_words` \n",
    "    should be unique which means before adding each term you need to check if it's already added to the array.\n",
    "    In addition, check if each term is in the `stop_words` array. Only append the term to `bag_of_words`\n",
    "    if it is not a stop word.\n",
    "    \"\"\"\n",
    "\n",
    "    \n",
    "    \n",
    "    \n",
    "    \"\"\"\n",
    "    Loop `corpus` again. For each doc string, count the number of occurrences of each term in `bag_of_words`. \n",
    "    Create an array for each doc's term frequency and append it to `term_freq`.\n",
    "    \"\"\"\n",
    "\n",
    "    corpus = []\n",
    "\n",
    "    # Write your code here\n",
    "    import re\n",
    "    \n",
    "    for d in docs:\n",
    "        f = open(d, \"r\")\n",
    "        corpus.append(f.readlines()[0])\n",
    "    \n",
    "    corpus = [re.compile('[^a-zA-Z]').sub(' ', x).lower() for x in corpus ]\n",
    "\n",
    "    term_freq = []\n",
    "    bag_of_words = []\n",
    "\n",
    "    # Write your code here\n",
    "    for c in corpus:\n",
    "        for x in c.split():\n",
    "            if x not in bag_of_words and x not in stop_words: bag_of_words.append(x)\n",
    "         \n",
    "   \n",
    "\n",
    "    # Write your code here\n",
    "    for c in corpus:\n",
    "        temp = []\n",
    "        for b in bag_of_words: \n",
    "            temp.append(c.split().count(b))\n",
    "        term_freq.append(temp)\n",
    "   \n",
    "    \n",
    "    # Now return your output as an object\n",
    "    return {\n",
    "        \"bag_of_words\": bag_of_words,\n",
    "        \"term_freq\": term_freq\n",
    "    }\n",
    "    "
   ]
  },
  {
   "cell_type": "markdown",
   "metadata": {},
   "source": [
    "Test your function without stop words. You should see the output like below:\n",
    "\n",
    "```{'bag_of_words': ['ironhack', 'is', 'cool', 'i', 'love', 'am', 'a', 'student', 'at'], 'term_freq': [[1, 1, 1, 0, 0, 0, 0, 0, 0], [1, 0, 0, 1, 1, 0, 0, 0, 0], [1, 0, 0, 1, 0, 1, 1, 1, 1]]}```"
   ]
  },
  {
   "cell_type": "code",
   "execution_count": 55,
   "metadata": {},
   "outputs": [
    {
     "name": "stdout",
     "output_type": "stream",
     "text": [
      "{'bag_of_words': ['ironhack', 'is', 'cool', 'i', 'love', 'am', 'a', 'student', 'at'], 'term_freq': [[1, 1, 1, 0, 0, 0, 0, 0, 0], [1, 0, 0, 1, 1, 0, 0, 0, 0], [1, 0, 0, 1, 0, 1, 1, 1, 1]]}\n"
     ]
    }
   ],
   "source": [
    "# Define doc paths array\n",
    "\n",
    "docs = ['doc1.txt', 'doc2.txt', 'doc3.txt']\n",
    "\n",
    "# Obtain BoW from your function\n",
    "bow = get_bow_from_docs(docs)\n",
    "\n",
    "# Print BoW\n",
    "print(bow)"
   ]
  },
  {
   "cell_type": "markdown",
   "metadata": {},
   "source": [
    "If your attempt above is successful, nice work done!\n",
    "\n",
    "Now test your function again with the stop words. In the previous lab we defined the stop words in a large array. In this lab, we'll import the stop words from Scikit-Learn."
   ]
  },
  {
   "cell_type": "code",
   "execution_count": 56,
   "metadata": {},
   "outputs": [
    {
     "name": "stdout",
     "output_type": "stream",
     "text": [
      "frozenset({'please', 'could', 'before', 'hasnt', 'latterly', 'will', 'toward', 'show', 'seeming', 'were', 'see', 'describe', 'beyond', 'whole', 'must', 'with', 'become', 'find', 'con', 'him', 'anyway', 'they', 'cannot', 'out', 'sometime', 'five', 'above', 'where', 'her', 'in', 'keep', 'ever', 'twelve', 'per', 'everywhere', 'enough', 'inc', 'every', 'last', 'via', 'still', 'much', 'ie', 'becomes', 'except', 'afterwards', 'moreover', 'former', 'once', 'then', 'side', 'seemed', 'are', 'mine', 'anyone', 'next', 'an', 'whenever', 'herself', 'bill', 'to', 'upon', 'why', 'thick', 'have', 'what', 'his', 'how', 'beforehand', 'sometimes', 'about', 'off', 'else', 'nevertheless', 'yours', 'hereby', 'each', 'thereupon', 'same', 'name', 'than', 'or', 'being', 'fifty', 'mill', 'meanwhile', 'but', 'four', 'system', 'we', 'found', 'too', 'although', 'nine', 'almost', 'wherein', 'at', 'someone', 'themselves', 'further', 'has', 'rather', 'thence', 'from', 'yet', 'co', 'etc', 'do', 'very', 'while', 'around', 'again', 'hereupon', 'third', 'which', 'call', 'our', 'among', 'full', 'sincere', 'within', 'latter', 'others', 'un', 'ltd', 'thru', 'across', 'whose', 'nor', 'anywhere', 'may', 'behind', 'neither', 'several', 'is', 'under', 'might', 'any', 'whether', 'itself', 'through', 'couldnt', 'also', 'more', 'not', 'that', 'either', 'otherwise', 'front', 'beside', 'should', 'hers', 'somewhere', 'herein', 'mostly', 'another', 'into', 'if', 'however', 'nowhere', 'becoming', 'other', 'even', 'anyhow', 'noone', 'fifteen', 'sixty', 'take', 'everything', 'part', 'cry', 'forty', 'de', 'own', 'though', 'therein', 'only', 'without', 'would', 'empty', 'wherever', 'fill', 'already', 'and', 'namely', 'many', 'bottom', 'am', 'perhaps', 'between', 'onto', 'some', 'yourself', 'eleven', 'hereafter', 'put', 'had', 'their', 'on', 'here', 'eight', 'the', 'by', 'of', 'alone', 'down', 'thin', 'eg', 'she', 'i', 'anything', 'ourselves', 'seem', 'whereby', 'somehow', 'as', 'move', 'against', 'throughout', 'these', 'it', 'such', 'nobody', 'most', 'this', 'back', 'all', 'us', 'so', 'below', 'until', 'up', 'none', 'whom', 'hundred', 'whereupon', 'something', 'few', 'done', 'whereas', 'whatever', 'thus', 'whence', 'its', 'for', 'get', 'cant', 'yourselves', 'give', 'six', 'indeed', 'top', 'my', 'he', 'always', 'first', 'me', 'hence', 'who', 'after', 'a', 'well', 'those', 'when', 'due', 'ten', 'two', 'towards', 'be', 'never', 'fire', 'now', 'besides', 'nothing', 'became', 'because', 'them', 'you', 'whoever', 'detail', 'along', 'three', 'thereby', 'therefore', 'was', 're', 'least', 'less', 'no', 'been', 'over', 'serious', 'can', 'twenty', 'together', 'ours', 'your', 'whither', 'since', 'interest', 'elsewhere', 'both', 'go', 'made', 'one', 'amount', 'formerly', 'whereafter', 'himself', 'thereafter', 'amongst', 'during', 'everyone', 'there', 'seems', 'amoungst', 'often', 'myself'})\n",
      "318\n"
     ]
    },
    {
     "data": {
      "text/plain": [
       "(None, None)"
      ]
     },
     "execution_count": 56,
     "metadata": {},
     "output_type": "execute_result"
    }
   ],
   "source": [
    "from sklearn.feature_extraction import stop_words\n",
    "print(stop_words.ENGLISH_STOP_WORDS), print(len(stop_words.ENGLISH_STOP_WORDS))"
   ]
  },
  {
   "cell_type": "markdown",
   "metadata": {},
   "source": [
    "You should have seen a large list of words that looks like:\n",
    "\n",
    "```frozenset({'across', 'mine', 'cannot', ...})```\n",
    "\n",
    "`frozenset` is a type of Python object that is immutable. In this lab you can use it just like an array without conversion."
   ]
  },
  {
   "cell_type": "markdown",
   "metadata": {},
   "source": [
    "Next, test your function with supplying `stop_words.ENGLISH_STOP_WORDS` as the second parameter."
   ]
  },
  {
   "cell_type": "code",
   "execution_count": 57,
   "metadata": {},
   "outputs": [
    {
     "name": "stdout",
     "output_type": "stream",
     "text": [
      "{'bag_of_words': ['ironhack', 'cool', 'love', 'student'], 'term_freq': [[1, 1, 0, 0], [1, 0, 1, 0], [1, 0, 0, 1]]}\n"
     ]
    }
   ],
   "source": [
    "\n",
    "bow = get_bow_from_docs(docs, stop_words.ENGLISH_STOP_WORDS)\n",
    "\n",
    "print(bow)"
   ]
  },
  {
   "cell_type": "markdown",
   "metadata": {},
   "source": [
    "You should have seen:\n",
    "\n",
    "```{'bag_of_words': ['ironhack', 'cool', 'love', 'student'], 'term_freq': [[1, 1, 0, 0], [1, 0, 1, 0], [1, 0, 0, 1]]}```"
   ]
  },
  {
   "cell_type": "code",
   "execution_count": null,
   "metadata": {},
   "outputs": [],
   "source": []
  }
 ],
 "metadata": {
  "kernelspec": {
   "display_name": "Python 3",
   "language": "python",
   "name": "python3"
  },
  "language_info": {
   "codemirror_mode": {
    "name": "ipython",
    "version": 3
   },
   "file_extension": ".py",
   "mimetype": "text/x-python",
   "name": "python",
   "nbconvert_exporter": "python",
   "pygments_lexer": "ipython3",
   "version": "3.7.3"
  }
 },
 "nbformat": 4,
 "nbformat_minor": 2
}
